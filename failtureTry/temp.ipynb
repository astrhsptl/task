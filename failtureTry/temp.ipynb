{
 "cells": [
  {
   "cell_type": "code",
   "execution_count": 3,
   "metadata": {},
   "outputs": [
    {
     "name": "stdout",
     "output_type": "stream",
     "text": [
      "oo o o,cUlCUmG\n",
      "Bp: ou === 0\n",
      "oe 5B c\n",
      "So\n",
      ".\n",
      "9\n",
      "\f\n"
     ]
    },
    {
     "data": {
      "text/plain": [
       "True"
      ]
     },
     "execution_count": 3,
     "metadata": {},
     "output_type": "execute_result"
    }
   ],
   "source": [
    "import cv2\n",
    "import pytesseract\n",
    "import numpy as np\n",
    "\n",
    "# Load image, grayscale, Otsu's threshold\n",
    "image = cv2.imread('qw.jpg')\n",
    "gray = cv2.cvtColor(image, cv2.COLOR_BGR2GRAY)\n",
    "thresh = cv2.threshold(gray, 0, 255, cv2.THRESH_BINARY_INV + cv2.THRESH_OTSU)[1]\n",
    "\n",
    "# Morph open to remove noise\n",
    "kernel = cv2.getStructuringElement(cv2.MORPH_RECT, (2,2))\n",
    "opening = cv2.morphologyEx(thresh, cv2.MORPH_OPEN, kernel, iterations=1)\n",
    "\n",
    "# Find contours and remove small noise\n",
    "cnts = cv2.findContours(opening, cv2.RETR_EXTERNAL, cv2.CHAIN_APPROX_SIMPLE)\n",
    "cnts = cnts[0] if len(cnts) == 2 else cnts[1]\n",
    "for c in cnts:\n",
    "    area = cv2.contourArea(c)\n",
    "    if area < 50:\n",
    "        cv2.drawContours(opening, [c], -1, 0, -1)\n",
    "\n",
    "# Invert and apply slight Gaussian blur\n",
    "result = 255 - opening\n",
    "result = cv2.GaussianBlur(result, (3,3), 0)\n",
    "\n",
    "# Perform OCR\n",
    "data = pytesseract.image_to_string(result, lang='eng', config='--psm 6')\n",
    "print(data)\n",
    "\n",
    "cv2.imwrite('thresh.jpg', thresh)\n",
    "cv2.imwrite('opening.jpg', opening)\n",
    "cv2.imwrite('result.jpg', result)"
   ]
  },
  {
   "cell_type": "code",
   "execution_count": 4,
   "metadata": {},
   "outputs": [
    {
     "data": {
      "text/plain": [
       "True"
      ]
     },
     "execution_count": 4,
     "metadata": {},
     "output_type": "execute_result"
    }
   ],
   "source": [
    "import cv2\n",
    "im=cv2.imread('hearts 6.png', cv2.IMREAD_GRAYSCALE)\n",
    "kernel=cv2.getStructuringElement(cv2.MORPH_RECT, (5, 5))\n",
    "clear_im=cv2.dilate(im, kernel)\n",
    "clear_im=cv2.erode(clear_im, kernel)\n",
    "bg=cv2.GaussianBlur(clear_im,(371,371), 0)\n",
    "result_im=cv2.subtract(~clear_im, ~bg)\n",
    "result_im=cv2.multiply(result_im, 3.4)\n",
    "cv2.imwrite('result.png', ~result_im)"
   ]
  },
  {
   "cell_type": "code",
   "execution_count": 13,
   "metadata": {},
   "outputs": [],
   "source": [
    "from PIL import Image, ImageDraw\n",
    "  \n",
    "# Opening the image and\n",
    "# converting its type to RGBA\n",
    "img = Image.open(r\"/home/nia/Desktop/task/thresh.jpg\").convert('RGBA')\n",
    "  \n",
    "# Location of seed\n",
    "seed = (1, 0)\n",
    "  \n",
    "# Pixel Value which would\n",
    "# be used for replacement\n",
    "rep_value = (255, 255, 255, 0)\n",
    "  \n",
    "# Calling the floodfill() function and\n",
    "# passing it image, seed, value and\n",
    "# thresh as arguments\n",
    "ImageDraw.floodfill(img, seed, rep_value, thresh = 100000)\n",
    "  \n",
    "img.show()"
   ]
  }
 ],
 "metadata": {
  "kernelspec": {
   "display_name": "Python 3",
   "language": "python",
   "name": "python3"
  },
  "language_info": {
   "codemirror_mode": {
    "name": "ipython",
    "version": 3
   },
   "file_extension": ".py",
   "mimetype": "text/x-python",
   "name": "python",
   "nbconvert_exporter": "python",
   "pygments_lexer": "ipython3",
   "version": "3.9.2"
  },
  "orig_nbformat": 4,
  "vscode": {
   "interpreter": {
    "hash": "916dbcbb3f70747c44a77c7bcd40155683ae19c65e1c03b4aa3499c5328201f1"
   }
  }
 },
 "nbformat": 4,
 "nbformat_minor": 2
}
