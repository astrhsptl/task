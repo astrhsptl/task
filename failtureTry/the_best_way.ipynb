{
 "cells": [
  {
   "cell_type": "code",
   "execution_count": 9,
   "metadata": {},
   "outputs": [],
   "source": [
    "import pandas as pd\n",
    "import easyocr\n",
    "from PIL import Image\n",
    "import pytesseract"
   ]
  },
  {
   "cell_type": "code",
   "execution_count": 10,
   "metadata": {},
   "outputs": [
    {
     "data": {
      "text/plain": [
       "'\\nimage = Image.open(PATH)\\npixels = image.load()\\nx, y = image.size\\nfor i in range(x):\\n    for j in range(y):\\n        r, g, b = pixels[i, j]\\n        pixels[i, j] = 255 - r, 255 - g, 255 - b\\nx, y = image.size\\nimage.save(PATH)\\nimage.close()\\nimage = Image.open(PATH)\\nim1 = image.resize((x * 3, y * 3))\\n'"
      ]
     },
     "execution_count": 10,
     "metadata": {},
     "output_type": "execute_result"
    }
   ],
   "source": [
    "PATH = 'thresh.jpg'\n",
    "'''\n",
    "image = Image.open(PATH)\n",
    "pixels = image.load()\n",
    "x, y = image.size\n",
    "for i in range(x):\n",
    "    for j in range(y):\n",
    "        r, g, b = pixels[i, j]\n",
    "        pixels[i, j] = 255 - r, 255 - g, 255 - b\n",
    "x, y = image.size\n",
    "image.save(PATH)\n",
    "image.close()\n",
    "image = Image.open(PATH)\n",
    "im1 = image.resize((x * 3, y * 3))\n",
    "'''"
   ]
  },
  {
   "cell_type": "code",
   "execution_count": 11,
   "metadata": {},
   "outputs": [
    {
     "name": "stderr",
     "output_type": "stream",
     "text": [
      "CUDA not available - defaulting to CPU. Note: This module is much faster with a GPU.\n"
     ]
    }
   ],
   "source": [
    "reader = easyocr.Reader(['ru', 'en'], gpu = True)\n",
    "results = reader.readtext(PATH)\n",
    "someone = pd.DataFrame(results, columns=['bbox','text','conf'])"
   ]
  },
  {
   "cell_type": "code",
   "execution_count": 12,
   "metadata": {},
   "outputs": [],
   "source": [
    "someone.to_csv('just a test.csv')"
   ]
  }
 ],
 "metadata": {
  "kernelspec": {
   "display_name": "Python 3",
   "language": "python",
   "name": "python3"
  },
  "language_info": {
   "codemirror_mode": {
    "name": "ipython",
    "version": 3
   },
   "file_extension": ".py",
   "mimetype": "text/x-python",
   "name": "python",
   "nbconvert_exporter": "python",
   "pygments_lexer": "ipython3",
   "version": "3.9.2 (default, Feb 28 2021, 17:03:44) \n[GCC 10.2.1 20210110]"
  },
  "orig_nbformat": 4,
  "vscode": {
   "interpreter": {
    "hash": "916dbcbb3f70747c44a77c7bcd40155683ae19c65e1c03b4aa3499c5328201f1"
   }
  }
 },
 "nbformat": 4,
 "nbformat_minor": 2
}
